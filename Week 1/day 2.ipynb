{
 "cells": [
  {
   "cell_type": "code",
   "execution_count": 3,
   "id": "f8a288b2",
   "metadata": {},
   "outputs": [
    {
     "name": "stdout",
     "output_type": "stream",
     "text": [
      "writing into the file completed\n"
     ]
    }
   ],
   "source": [
    "#writing to a file using the \"write\" access mode\n",
    "file_obj = open(\"file_io_example.txt\", \"w\")\n",
    "file_obj.write(\"\\n New text 1\")\n",
    "file_obj.write(\"\\n New text 2\")\n",
    "file_obj.write(\"\\n New text 3\")\n",
    "file_obj.close()\n",
    "print(\"writing into the file completed\")"
   ]
  },
  {
   "cell_type": "code",
   "execution_count": 4,
   "id": "a609c2a4",
   "metadata": {},
   "outputs": [
    {
     "name": "stdout",
     "output_type": "stream",
     "text": [
      "\n",
      " New text 1\n",
      " New text 2\n",
      " New text 3\n"
     ]
    }
   ],
   "source": [
    "file_obj = open(\"file_io_example.txt\", \"r\")\n",
    "my_text = file_obj.read()\n",
    "file_obj.close()\n",
    "print(my_text)"
   ]
  },
  {
   "cell_type": "code",
   "execution_count": 5,
   "id": "329cc17f",
   "metadata": {},
   "outputs": [
    {
     "name": "stdout",
     "output_type": "stream",
     "text": [
      "writing into the file completed\n"
     ]
    }
   ],
   "source": [
    "#writing to a file using \"append\" mode\n",
    "file_obj = open(\"file_io_example.txt\", \"a\")\n",
    "file_obj.write(\"\\n New text 1\")\n",
    "file_obj.write(\"\\n New text 2\")\n",
    "file_obj.write(\"\\n New text 3\")\n",
    "file_obj.close()\n",
    "print(\"writing into the file completed\")"
   ]
  },
  {
   "cell_type": "code",
   "execution_count": 6,
   "id": "4e93aea2",
   "metadata": {},
   "outputs": [
    {
     "name": "stdout",
     "output_type": "stream",
     "text": [
      "\n",
      " New text 1\n",
      " New text 2\n",
      " New text 3\n",
      " New text 1\n",
      " New text 2\n",
      " New text 3\n"
     ]
    }
   ],
   "source": [
    "file_obj = open(\"file_io_example.txt\", \"r\")\n",
    "my_text = file_obj.read()\n",
    "file_obj.close()\n",
    "print(my_text)"
   ]
  },
  {
   "cell_type": "code",
   "execution_count": 9,
   "id": "97def832",
   "metadata": {},
   "outputs": [
    {
     "name": "stdout",
     "output_type": "stream",
     "text": [
      "writing into file completed\n",
      "\n",
      " New text 1\n",
      " New text 2\n",
      " New text 3\n",
      " New text 1\n",
      " New text 2\n",
      " New text 3\n",
      " Append+ New text 1\n",
      " Append+ New text 2\n",
      " Append+ New text 3\n",
      " Append+ New text 1\n",
      " Append+ New text 2\n",
      " Append+ New text 3\n"
     ]
    }
   ],
   "source": [
    "#writing to a file using \"append +\" mode\n",
    "file_obj = open(\"file_io_example.txt\", \"a+\")\n",
    "file_obj.write(\"\\n Append+ New text 1\")\n",
    "file_obj.write(\"\\n Append+ New text 2\")\n",
    "file_obj.write(\"\\n Append+ New text 3\")\n",
    "print(\"writing into file completed\")\n",
    "file_obj.seek(0)\n",
    "text = file_obj.read()\n",
    "file_obj.close()\n",
    "print(text)"
   ]
  },
  {
   "cell_type": "code",
   "execution_count": null,
   "id": "2f2ce21b",
   "metadata": {},
   "outputs": [],
   "source": []
  }
 ],
 "metadata": {
  "kernelspec": {
   "display_name": "Python 3 (ipykernel)",
   "language": "python",
   "name": "python3"
  },
  "language_info": {
   "codemirror_mode": {
    "name": "ipython",
    "version": 3
   },
   "file_extension": ".py",
   "mimetype": "text/x-python",
   "name": "python",
   "nbconvert_exporter": "python",
   "pygments_lexer": "ipython3",
   "version": "3.11.3"
  }
 },
 "nbformat": 4,
 "nbformat_minor": 5
}
