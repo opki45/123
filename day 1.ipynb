{
 "cells": [
  {
   "cell_type": "code",
   "execution_count": 1,
   "id": "76a4a17d",
   "metadata": {},
   "outputs": [
    {
     "name": "stdout",
     "output_type": "stream",
     "text": [
      "s\n",
      "G\n",
      "G\n"
     ]
    }
   ],
   "source": [
    "#accesing items in an iterable using indexing\n",
    "str_iterable = \"Geeks for Geeks\"\n",
    "last_item = str_iterable[-1]\n",
    "print(last_item)\n",
    "\n",
    "print(str_iterable[0])\n",
    "print(str_iterable[-len(str_iterable)])"
   ]
  },
  {
   "cell_type": "code",
   "execution_count": 3,
   "id": "b10dad7d",
   "metadata": {},
   "outputs": [
    {
     "name": "stdout",
     "output_type": "stream",
     "text": [
      "['simi', 'kola', 50]\n",
      "ade\n"
     ]
    }
   ],
   "source": [
    "list_iterable = [\"simi\",\"kola\",50,70,\"ade\"]\n",
    "print(list_iterable[0:3])\n",
    "print(list_iterable[-1])"
   ]
  },
  {
   "cell_type": "code",
   "execution_count": 9,
   "id": "a8d3180f",
   "metadata": {},
   "outputs": [
    {
     "name": "stdout",
     "output_type": "stream",
     "text": [
      "for Geeks\n",
      "ks for Gee\n",
      "['kola', 50, 70, 'ade']\n",
      "['kola', 50, 70]\n"
     ]
    }
   ],
   "source": [
    "#slicing an iterable using indexing\n",
    "str_iterable = \"Geeks for Geeks\"\n",
    "list_iterable = [\"simi\",\"kola\",50,70,\"ade\"]\n",
    "sliced = str_iterable[6:]\n",
    "print(sliced)\n",
    "sliced2 = str_iterable[3:13]\n",
    "print(sliced2)\n",
    "\n",
    "list_iterable = [\"simi\",\"kola\",50,70,\"ade\"]\n",
    "print(list_iterable[1:])\n",
    "print(list_iterable[1:4])"
   ]
  },
  {
   "cell_type": "code",
   "execution_count": 11,
   "id": "daf9a453",
   "metadata": {},
   "outputs": [
    {
     "name": "stdout",
     "output_type": "stream",
     "text": [
      "name \n",
      "name\n"
     ]
    }
   ],
   "source": [
    "str_iterable = \"My name is john\"\n",
    "sliced_iterable = str_iterable[3:8]\n",
    "print(sliced_iterable)\n",
    "sliced_iterable2 = str_iterable[-12:-8]\n",
    "print(sliced_iterable2)"
   ]
  },
  {
   "cell_type": "code",
   "execution_count": 15,
   "id": "109a3828",
   "metadata": {},
   "outputs": [
    {
     "name": "stdout",
     "output_type": "stream",
     "text": [
      "Enter your exam score: 73\n",
      "Excellent - A\n"
     ]
    }
   ],
   "source": [
    "#working with conditionals\n",
    "score = float(input(\"Enter your exam score: \"))\n",
    "if score < 0:\n",
    "    print(\"Invalid score\")\n",
    "elif score <= 30:\n",
    "    print(\"Fail - F\")\n",
    "elif score > 30 and score < 40:\n",
    "    print(\"Fair - E\")\n",
    "elif score > 40 and score < 50:\n",
    "    print(\"Pass - D\")\n",
    "elif score > 50 and score < 60:\n",
    "    print(\"Good - C\")\n",
    "elif score > 61 and score < 71:\n",
    "    print(\"Very Good- B\")\n",
    "else:\n",
    "    print(\"Excellent - A\")"
   ]
  },
  {
   "cell_type": "code",
   "execution_count": 17,
   "id": "9763ae19",
   "metadata": {},
   "outputs": [
    {
     "name": "stdout",
     "output_type": "stream",
     "text": [
      "Please enter your temperature12\n",
      "Mild\n"
     ]
    }
   ],
   "source": [
    "temperature = int(input(\"Please enter your temperature\"))\n",
    "if temperature < 0:\n",
    "    print(\"Invalid temperature\")\n",
    "elif temperature > 0 and temperature <= 20:\n",
    "    print(\"Mild\")\n",
    "elif temperature >= 21 and temperature <= 50:\n",
    "    print(\"Severe\")\n",
    "else:\n",
    "    print(\"Critical\")"
   ]
  },
  {
   "cell_type": "code",
   "execution_count": null,
   "id": "2c30e323",
   "metadata": {},
   "outputs": [],
   "source": []
  }
 ],
 "metadata": {
  "kernelspec": {
   "display_name": "Python 3 (ipykernel)",
   "language": "python",
   "name": "python3"
  },
  "language_info": {
   "codemirror_mode": {
    "name": "ipython",
    "version": 3
   },
   "file_extension": ".py",
   "mimetype": "text/x-python",
   "name": "python",
   "nbconvert_exporter": "python",
   "pygments_lexer": "ipython3",
   "version": "3.11.4"
  }
 },
 "nbformat": 4,
 "nbformat_minor": 5
}
