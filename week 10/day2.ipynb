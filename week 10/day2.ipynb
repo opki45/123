{
 "cells": [
  {
   "cell_type": "code",
   "execution_count": 15,
   "id": "b01bf99e",
   "metadata": {},
   "outputs": [
    {
     "name": "stdout",
     "output_type": "stream",
     "text": [
      "0    1.0\n",
      "1    2.0\n",
      "2    2.0\n",
      "3    NaN\n",
      "dtype: float64\n"
     ]
    }
   ],
   "source": [
    "import numpy as np\n",
    "import pandas as pd\n",
    "\n",
    "df = pd.Series([1, None, 2, np.nan])\n",
    "#print(df.isnull())\n",
    "#print(df.notnull())\n",
    "#df = df.dropna()\n",
    "#df = df.fillna(0)\n",
    "#df = df.fillna(method=\"ffill\")#forward fill\n",
    "#df = df.fillna(method=\"bfill\")#backward fill\n",
    "print(df)"
   ]
  },
  {
   "cell_type": "code",
   "execution_count": 24,
   "id": "060c2780",
   "metadata": {},
   "outputs": [
    {
     "name": "stdout",
     "output_type": "stream",
     "text": [
      "   one  two  three\n",
      "a  1.0  3.0    3.0\n",
      "b  2.0  5.0   10.0\n",
      "c  3.0  7.0   21.0\n",
      "d  4.0  8.0   32.0\n",
      "e  9.0  9.0    NaN\n"
     ]
    }
   ],
   "source": [
    "data_dict = {\"one\": pd.Series([1,2,3,4], index=[\"a\",\"b\",\"c\",\"d\"]), \"two\":pd.Series([3,5,7,8,9], index=[\"a\",\"b\",\"c\",\"d\",\"e\"])}\n",
    "df = pd.DataFrame(data_dict)\n",
    "#print(df)\n",
    "df[\"three\"]= df[\"one\"]*df[\"two\"]\n",
    "#print(df)\n",
    "#df = df.dropna(axis=\"columns\")\n",
    "\n",
    "#df = df.fillna(method=\"bfill\")\n",
    "df = df.fillna(method=\"bfill\", axis=1)#to fill along the row\n",
    "print(df)"
   ]
  },
  {
   "cell_type": "code",
   "execution_count": 29,
   "id": "2f1bc08d",
   "metadata": {},
   "outputs": [
    {
     "name": "stdout",
     "output_type": "stream",
     "text": [
      "['Entire home/apt' 'Private room' 'Shared room' 'Hotel room']\n",
      "Entire home/apt percentage = 57.57\n",
      "Private room percentage = 40.05\n",
      "Shared room percentage = 0.43\n",
      "Hotel room percentage = 1.96\n"
     ]
    }
   ],
   "source": [
    "my_df = pd.read_csv(\"https://raw.githubusercontent.com/aiplanethub/Datasets/master/airbnb%20_data/airbnb_listing_train.csv\")\n",
    "my_df2 = my_df.loc[(my_df[\"number_of_reviews\"] >= 30) & (my_df[\"price\"] >= 40), [\"id\", \"host_name\",\"neighbourhood\",\"room_type\", \"minimum_nights\", \"reviews_per_month\", \"price\",\"number_of_reviews\"]]\n",
    "#my_df2[\"host_name\"] = my_df2[\"host_name\"].str.upper()\n",
    "#print(my_df2[\"hostname\"].dtype)\n",
    "my_df2[\"reviews_per_month\"]=my_df2[\"reviews_per_month\"]*1000\n",
    "print(my_df2[\"room_type\"].unique())\n",
    "\n",
    "total = my_df2[\"id\"].count()\n",
    "my_df3 = my_df2.loc[my_df2[\"room_type\"].str.contains(\"Entire\")]\n",
    "df3_percent = (my_df3[\"id\"].count()/total)*100\n",
    "\n",
    "my_df4 = my_df2.loc[my_df2[\"room_type\"].str.contains(\"Private\")]\n",
    "df4_percent = (my_df4[\"id\"].count()/total)*100\n",
    "\n",
    "my_df5 = my_df2.loc[my_df2[\"room_type\"].str.contains(\"Shared\")]\n",
    "df5_percent = (my_df5[\"id\"].count()/total)*100\n",
    "\n",
    "my_df6 = my_df2.loc[my_df2[\"room_type\"].str.contains(\"Hotel\")]\n",
    "df6_percent = (my_df6[\"id\"].count()/total)*100\n",
    "\n",
    "print(\"Entire home/apt percentage =\", round(df3_percent,2))\n",
    "print(\"Private room percentage =\", round(df4_percent,2))\n",
    "print(\"Shared room percentage =\", round(df5_percent,2))\n",
    "print(\"Hotel room percentage =\", round(df6_percent,2))"
   ]
  },
  {
   "cell_type": "code",
   "execution_count": null,
   "id": "89c49571",
   "metadata": {},
   "outputs": [],
   "source": []
  }
 ],
 "metadata": {
  "kernelspec": {
   "display_name": "Python 3 (ipykernel)",
   "language": "python",
   "name": "python3"
  },
  "language_info": {
   "codemirror_mode": {
    "name": "ipython",
    "version": 3
   },
   "file_extension": ".py",
   "mimetype": "text/x-python",
   "name": "python",
   "nbconvert_exporter": "python",
   "pygments_lexer": "ipython3",
   "version": "3.11.4"
  }
 },
 "nbformat": 4,
 "nbformat_minor": 5
}
