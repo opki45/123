{
 "cells": [
  {
   "cell_type": "code",
   "execution_count": 2,
   "id": "4eec0b7f",
   "metadata": {},
   "outputs": [],
   "source": [
    "import numpy as np\n",
    "import pandas as pd\n",
    "\n"
   ]
  },
  {
   "cell_type": "code",
   "execution_count": 7,
   "id": "fd3f20ad",
   "metadata": {},
   "outputs": [
    {
     "name": "stdout",
     "output_type": "stream",
     "text": [
      "a    0.420689\n",
      "b   -1.010138\n",
      "c   -0.186596\n",
      "d   -0.684025\n",
      "e    3.691452\n",
      "dtype: float64\n"
     ]
    }
   ],
   "source": [
    "seris2 = pd.Series(np.random.randn(5), index = [\"a\",\"b\",\"c\",\"d\",\"e\"])\n",
    "print(seris2)"
   ]
  },
  {
   "cell_type": "code",
   "execution_count": 15,
   "id": "abd489eb",
   "metadata": {},
   "outputs": [
    {
     "name": "stdout",
     "output_type": "stream",
     "text": [
      "a    3\n",
      "b    4\n",
      "c    5\n",
      "d    6\n",
      "dtype: int64\n"
     ]
    }
   ],
   "source": [
    "series1 = pd.Series([3,4,5,6],index =[\"a\",\"b\",\"c\",\"d\"])\n",
    "print(series1)"
   ]
  },
  {
   "cell_type": "code",
   "execution_count": 11,
   "id": "ba2b76c5",
   "metadata": {},
   "outputs": [
    {
     "name": "stdout",
     "output_type": "stream",
     "text": [
      "maths      43\n",
      "English    87\n",
      "Bio        60\n",
      "Lit        65\n",
      "dtype: int64\n"
     ]
    }
   ],
   "source": [
    "data = {\"maths\": 43, \"English\":87, \"Bio\":60, \"Lit\":65}\n",
    "series3 = pd.Series(data)\n",
    "print(series3)"
   ]
  },
  {
   "cell_type": "code",
   "execution_count": 34,
   "id": "a77aa584",
   "metadata": {},
   "outputs": [
    {
     "name": "stdout",
     "output_type": "stream",
     "text": [
      "   one  two\n",
      "a  1.0    3\n",
      "b  2.0    5\n",
      "c  3.0    7\n",
      "d  4.0    8\n",
      "e  NaN    9\n"
     ]
    }
   ],
   "source": [
    "#creating a dataframe from a dictionary of series\n",
    "data_dict = {\"one\": pd.Series([1,2,3,4], index=[\"a\",\"b\",\"c\",\"d\"]), \"two\":pd.Series([3,5,7,8,9], index=[\"a\",\"b\",\"c\",\"d\",\"e\"])}\n",
    "df = pd.DataFrame(data_dict)\n",
    "print(df)\n",
    "df[\"three\"]= df[\"one\"]*df[\"two\"]\n",
    "#print(df.describe())\n",
    "#print(df.info())\n",
    "#print(df.head())\n",
    "#print(df.isna())\n",
    "#print(df.isna().any())\n",
    "#print(df[\"one\"].unique())"
   ]
  },
  {
   "cell_type": "code",
   "execution_count": 22,
   "id": "b878c5d6",
   "metadata": {},
   "outputs": [
    {
     "name": "stdout",
     "output_type": "stream",
     "text": [
      "   one  three\n",
      "a  1.0    3.0\n",
      "b  2.0   10.0\n",
      "c  3.0   21.0\n",
      "d  4.0   32.0\n",
      "e  NaN    NaN\n"
     ]
    }
   ],
   "source": [
    "new_df = pd.DataFrame(df, columns=[\"one\",\"three\"])\n",
    "print(new_df)"
   ]
  },
  {
   "cell_type": "code",
   "execution_count": 24,
   "id": "aeaa2de7",
   "metadata": {
    "scrolled": false
   },
   "outputs": [
    {
     "name": "stdout",
     "output_type": "stream",
     "text": [
      "a    1.0\n",
      "b    2.0\n",
      "c    3.0\n",
      "d    4.0\n",
      "e    NaN\n",
      "Name: one, dtype: float64\n"
     ]
    }
   ],
   "source": [
    "new_df = df[\"one\"]\n",
    "print(new_df)"
   ]
  },
  {
   "cell_type": "code",
   "execution_count": 35,
   "id": "dc3cdadb",
   "metadata": {},
   "outputs": [
    {
     "name": "stdout",
     "output_type": "stream",
     "text": [
      "   name  age  gender nickname\n",
      "a  Bayo   16  female        B\n",
      "b  Dayo   17    Male        D\n",
      "c  Mayo   15    Male        M\n"
     ]
    }
   ],
   "source": [
    "data = {\"name\":pd.Series([\"Bayo\",\"Dayo\",\"Mayo\"],index=[\"a\",\"b\",\"c\"]), \n",
    "        \"age\":pd.Series([16,17,15],index=[\"a\",\"b\",\"c\"]),\n",
    "        \"gender\":pd.Series([\"female\",\"Male\",\"Male\"],index=[\"a\",\"b\",\"c\"]),\n",
    "        \"nickname\":pd.Series([\"B\",\"D\",\"M\"],index=[\"a\",\"b\",\"c\"])}\n",
    "df = pd.DataFrame(data)\n",
    "print(df)"
   ]
  },
  {
   "cell_type": "code",
   "execution_count": null,
   "id": "8faf630c",
   "metadata": {},
   "outputs": [],
   "source": [
    "file_df = pd.read_csv()  \n",
    "print(file_df.head(10))"
   ]
  },
  {
   "cell_type": "code",
   "execution_count": 3,
   "id": "48828238",
   "metadata": {},
   "outputs": [
    {
     "name": "stdout",
     "output_type": "stream",
     "text": [
      "['Entire home/apt' 'Private room' 'Shared room' 'Hotel room']\n"
     ]
    }
   ],
   "source": [
    "my_df = pd.read_csv(\"https://raw.githubusercontent.com/aiplanethub/Datasets/master/airbnb%20_data/airbnb_listing_train.csv\")\n",
    "#print(my_df.head()[[\"id\",\"host_name\",\"minimum_nights\",\"price\"]])\n",
    "#print(my_df.info())\n",
    "#print(my_df.isna())\n",
    "#print(my_df.isna().any())\n",
    "\n",
    "my_df2 = my_df.loc[(my_df[\"number_of_reviews\"] >= 30) & (my_df[\"price\"] >= 40), [\"id\", \"host_name\",\"neighbourhood\",\"room_type\", \"minimum_nights\", \"reviews_per_month\", \"price\",\"number_of_reviews\"]]\n",
    "#print(my_df2)\n",
    "\n",
    "print(my_df2[\"room_type\"].unique())\n",
    "#lower(), upper(), capitalize(), startswith(), isnumeric(), split(), strip(), lstrip(),rstrip()\n"
   ]
  },
  {
   "cell_type": "code",
   "execution_count": null,
   "id": "5d7ef388",
   "metadata": {},
   "outputs": [],
   "source": []
  }
 ],
 "metadata": {
  "kernelspec": {
   "display_name": "Python 3 (ipykernel)",
   "language": "python",
   "name": "python3"
  },
  "language_info": {
   "codemirror_mode": {
    "name": "ipython",
    "version": 3
   },
   "file_extension": ".py",
   "mimetype": "text/x-python",
   "name": "python",
   "nbconvert_exporter": "python",
   "pygments_lexer": "ipython3",
   "version": "3.11.4"
  }
 },
 "nbformat": 4,
 "nbformat_minor": 5
}
