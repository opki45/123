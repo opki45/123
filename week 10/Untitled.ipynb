{
 "cells": [
  {
   "cell_type": "code",
   "execution_count": 6,
   "id": "4eec0b7f",
   "metadata": {},
   "outputs": [],
   "source": [
    "import numpy as np\n",
    "import pandas as pd\n",
    "\n"
   ]
  },
  {
   "cell_type": "code",
   "execution_count": 7,
   "id": "fd3f20ad",
   "metadata": {},
   "outputs": [
    {
     "name": "stdout",
     "output_type": "stream",
     "text": [
      "a    0.420689\n",
      "b   -1.010138\n",
      "c   -0.186596\n",
      "d   -0.684025\n",
      "e    3.691452\n",
      "dtype: float64\n"
     ]
    }
   ],
   "source": [
    "seris2 = pd.Series(np.random.randn(5), index = [\"a\",\"b\",\"c\",\"d\",\"e\"])\n",
    "print(seris2)"
   ]
  },
  {
   "cell_type": "code",
   "execution_count": 15,
   "id": "abd489eb",
   "metadata": {},
   "outputs": [
    {
     "name": "stdout",
     "output_type": "stream",
     "text": [
      "a    3\n",
      "b    4\n",
      "c    5\n",
      "d    6\n",
      "dtype: int64\n"
     ]
    }
   ],
   "source": [
    "series1 = pd.Series([3,4,5,6],index =[\"a\",\"b\",\"c\",\"d\"])\n",
    "print(series1)"
   ]
  },
  {
   "cell_type": "code",
   "execution_count": 11,
   "id": "ba2b76c5",
   "metadata": {},
   "outputs": [
    {
     "name": "stdout",
     "output_type": "stream",
     "text": [
      "maths      43\n",
      "English    87\n",
      "Bio        60\n",
      "Lit        65\n",
      "dtype: int64\n"
     ]
    }
   ],
   "source": [
    "data = {\"maths\": 43, \"English\":87, \"Bio\":60, \"Lit\":65}\n",
    "series3 = pd.Series(data)\n",
    "print(series3)"
   ]
  },
  {
   "cell_type": "code",
   "execution_count": 34,
   "id": "a77aa584",
   "metadata": {},
   "outputs": [
    {
     "name": "stdout",
     "output_type": "stream",
     "text": [
      "   one  two\n",
      "a  1.0    3\n",
      "b  2.0    5\n",
      "c  3.0    7\n",
      "d  4.0    8\n",
      "e  NaN    9\n"
     ]
    }
   ],
   "source": [
    "#creating a dataframe from a dictionary of series\n",
    "data_dict = {\"one\": pd.Series([1,2,3,4], index=[\"a\",\"b\",\"c\",\"d\"]), \"two\":pd.Series([3,5,7,8,9], index=[\"a\",\"b\",\"c\",\"d\",\"e\"])}\n",
    "df = pd.DataFrame(data_dict)\n",
    "print(df)\n",
    "df[\"three\"]= df[\"one\"]*df[\"two\"]\n",
    "#print(df.describe())\n",
    "#print(df.info())\n",
    "#print(df.head())\n",
    "#print(df.isna())\n",
    "#print(df.isna().any())\n",
    "#print(df[\"one\"].unique())"
   ]
  },
  {
   "cell_type": "code",
   "execution_count": 22,
   "id": "b878c5d6",
   "metadata": {},
   "outputs": [
    {
     "name": "stdout",
     "output_type": "stream",
     "text": [
      "   one  three\n",
      "a  1.0    3.0\n",
      "b  2.0   10.0\n",
      "c  3.0   21.0\n",
      "d  4.0   32.0\n",
      "e  NaN    NaN\n"
     ]
    }
   ],
   "source": [
    "new_df = pd.DataFrame(df, columns=[\"one\",\"three\"])\n",
    "print(new_df)"
   ]
  },
  {
   "cell_type": "code",
   "execution_count": 24,
   "id": "aeaa2de7",
   "metadata": {
    "scrolled": false
   },
   "outputs": [
    {
     "name": "stdout",
     "output_type": "stream",
     "text": [
      "a    1.0\n",
      "b    2.0\n",
      "c    3.0\n",
      "d    4.0\n",
      "e    NaN\n",
      "Name: one, dtype: float64\n"
     ]
    }
   ],
   "source": [
    "new_df = df[\"one\"]\n",
    "print(new_df)"
   ]
  },
  {
   "cell_type": "code",
   "execution_count": 35,
   "id": "dc3cdadb",
   "metadata": {},
   "outputs": [
    {
     "name": "stdout",
     "output_type": "stream",
     "text": [
      "   name  age  gender nickname\n",
      "a  Bayo   16  female        B\n",
      "b  Dayo   17    Male        D\n",
      "c  Mayo   15    Male        M\n"
     ]
    }
   ],
   "source": [
    "data = {\"name\":pd.Series([\"Bayo\",\"Dayo\",\"Mayo\"],index=[\"a\",\"b\",\"c\"]), \n",
    "        \"age\":pd.Series([16,17,15],index=[\"a\",\"b\",\"c\"]),\n",
    "        \"gender\":pd.Series([\"female\",\"Male\",\"Male\"],index=[\"a\",\"b\",\"c\"]),\n",
    "        \"nickname\":pd.Series([\"B\",\"D\",\"M\"],index=[\"a\",\"b\",\"c\"])}\n",
    "df = pd.DataFrame(data)\n",
    "print(df)"
   ]
  },
  {
   "cell_type": "code",
   "execution_count": null,
   "id": "8faf630c",
   "metadata": {},
   "outputs": [],
   "source": [
    "file_df = pd.read_csv()  \n",
    "print(file_df.head(10))"
   ]
  },
  {
   "cell_type": "code",
   "execution_count": 43,
   "id": "48828238",
   "metadata": {},
   "outputs": [
    {
     "name": "stdout",
     "output_type": "stream",
     "text": [
      "             id       host_name             neighbourhood        room_type  \\\n",
      "3       7820311           Ayden                Westerpark  Entire home/apt   \n",
      "4      27346603          Alissa                Westerpark     Private room   \n",
      "5       6119654          Sophie              Centrum-Oost  Entire home/apt   \n",
      "8      11204463             Jan    De Baarsjes - Oud-West     Private room   \n",
      "14      5899241  Nienke & Jacco                  Oud-Oost  Entire home/apt   \n",
      "...         ...             ...                       ...              ...   \n",
      "12881   9769837             Bob  IJburg - Zeeburgereiland     Private room   \n",
      "12884  22367852            Paul              Centrum-West     Private room   \n",
      "12889  19135417          Angela   De Pijp - Rivierenbuurt  Entire home/apt   \n",
      "12892   6356312          Marijn    De Baarsjes - Oud-West  Entire home/apt   \n",
      "12897   1055570            Rens  IJburg - Zeeburgereiland  Entire home/apt   \n",
      "\n",
      "       minimum_nights  reviews_per_month  price  number_of_reviews  \n",
      "3                   3               0.72    130                 42  \n",
      "4                   2               4.02     90                 89  \n",
      "5                   2               0.85    119                 53  \n",
      "8                   3               2.25     69                115  \n",
      "14                  2               0.50    220                 31  \n",
      "...               ...                ...    ...                ...  \n",
      "12881               1               0.84    150                 43  \n",
      "12884               3               2.82     95                 84  \n",
      "12889               3               1.39    290                 34  \n",
      "12892               2               0.84    150                 52  \n",
      "12897               7               2.75    160                238  \n",
      "\n",
      "[2557 rows x 8 columns]\n"
     ]
    },
    {
     "ename": "AttributeError",
     "evalue": "'DataFrame' object has no attribute 'unique'",
     "output_type": "error",
     "traceback": [
      "\u001b[1;31m---------------------------------------------------------------------------\u001b[0m",
      "\u001b[1;31mAttributeError\u001b[0m                            Traceback (most recent call last)",
      "Cell \u001b[1;32mIn[43], line 9\u001b[0m\n\u001b[0;32m      7\u001b[0m my_df2 \u001b[38;5;241m=\u001b[39m my_df\u001b[38;5;241m.\u001b[39mloc[(my_df[\u001b[38;5;124m\"\u001b[39m\u001b[38;5;124mnumber_of_reviews\u001b[39m\u001b[38;5;124m\"\u001b[39m] \u001b[38;5;241m>\u001b[39m\u001b[38;5;241m=\u001b[39m \u001b[38;5;241m30\u001b[39m) \u001b[38;5;241m&\u001b[39m (my_df[\u001b[38;5;124m\"\u001b[39m\u001b[38;5;124mprice\u001b[39m\u001b[38;5;124m\"\u001b[39m] \u001b[38;5;241m>\u001b[39m\u001b[38;5;241m=\u001b[39m \u001b[38;5;241m40\u001b[39m), [\u001b[38;5;124m\"\u001b[39m\u001b[38;5;124mid\u001b[39m\u001b[38;5;124m\"\u001b[39m, \u001b[38;5;124m\"\u001b[39m\u001b[38;5;124mhost_name\u001b[39m\u001b[38;5;124m\"\u001b[39m,\u001b[38;5;124m\"\u001b[39m\u001b[38;5;124mneighbourhood\u001b[39m\u001b[38;5;124m\"\u001b[39m,\u001b[38;5;124m\"\u001b[39m\u001b[38;5;124mroom_type\u001b[39m\u001b[38;5;124m\"\u001b[39m, \u001b[38;5;124m\"\u001b[39m\u001b[38;5;124mminimum_nights\u001b[39m\u001b[38;5;124m\"\u001b[39m, \u001b[38;5;124m\"\u001b[39m\u001b[38;5;124mreviews_per_month\u001b[39m\u001b[38;5;124m\"\u001b[39m, \u001b[38;5;124m\"\u001b[39m\u001b[38;5;124mprice\u001b[39m\u001b[38;5;124m\"\u001b[39m,\u001b[38;5;124m\"\u001b[39m\u001b[38;5;124mnumber_of_reviews\u001b[39m\u001b[38;5;124m\"\u001b[39m]]\n\u001b[0;32m      8\u001b[0m \u001b[38;5;28mprint\u001b[39m(my_df2)\n\u001b[1;32m----> 9\u001b[0m \u001b[38;5;28mprint\u001b[39m(my_df2\u001b[38;5;241m.\u001b[39munique)\n",
      "File \u001b[1;32m~\\anaconda3\\Lib\\site-packages\\pandas\\core\\generic.py:5902\u001b[0m, in \u001b[0;36mNDFrame.__getattr__\u001b[1;34m(self, name)\u001b[0m\n\u001b[0;32m   5895\u001b[0m \u001b[38;5;28;01mif\u001b[39;00m (\n\u001b[0;32m   5896\u001b[0m     name \u001b[38;5;129;01mnot\u001b[39;00m \u001b[38;5;129;01min\u001b[39;00m \u001b[38;5;28mself\u001b[39m\u001b[38;5;241m.\u001b[39m_internal_names_set\n\u001b[0;32m   5897\u001b[0m     \u001b[38;5;129;01mand\u001b[39;00m name \u001b[38;5;129;01mnot\u001b[39;00m \u001b[38;5;129;01min\u001b[39;00m \u001b[38;5;28mself\u001b[39m\u001b[38;5;241m.\u001b[39m_metadata\n\u001b[0;32m   5898\u001b[0m     \u001b[38;5;129;01mand\u001b[39;00m name \u001b[38;5;129;01mnot\u001b[39;00m \u001b[38;5;129;01min\u001b[39;00m \u001b[38;5;28mself\u001b[39m\u001b[38;5;241m.\u001b[39m_accessors\n\u001b[0;32m   5899\u001b[0m     \u001b[38;5;129;01mand\u001b[39;00m \u001b[38;5;28mself\u001b[39m\u001b[38;5;241m.\u001b[39m_info_axis\u001b[38;5;241m.\u001b[39m_can_hold_identifiers_and_holds_name(name)\n\u001b[0;32m   5900\u001b[0m ):\n\u001b[0;32m   5901\u001b[0m     \u001b[38;5;28;01mreturn\u001b[39;00m \u001b[38;5;28mself\u001b[39m[name]\n\u001b[1;32m-> 5902\u001b[0m \u001b[38;5;28;01mreturn\u001b[39;00m \u001b[38;5;28mobject\u001b[39m\u001b[38;5;241m.\u001b[39m\u001b[38;5;21m__getattribute__\u001b[39m(\u001b[38;5;28mself\u001b[39m, name)\n",
      "\u001b[1;31mAttributeError\u001b[0m: 'DataFrame' object has no attribute 'unique'"
     ]
    }
   ],
   "source": [
    "my_df = pd.read_csv(\"https://raw.githubusercontent.com/aiplanethub/Datasets/master/airbnb%20_data/airbnb_listing_train.csv\")\n",
    "#print(my_df.head()[[\"id\",\"host_name\",\"minimum_nights\",\"price\"]])\n",
    "#print(my_df.info())\n",
    "#print(my_df.isna())\n",
    "#print(my_df.isna().any())\n",
    "\n",
    "my_df2 = my_df.loc[(my_df[\"number_of_reviews\"] >= 30) & (my_df[\"price\"] >= 40), [\"id\", \"host_name\",\"neighbourhood\",\"room_type\", \"minimum_nights\", \"reviews_per_month\", \"price\",\"number_of_reviews\"]]\n",
    "print(my_df2)\n",
    "print(my_df2)\n"
   ]
  },
  {
   "cell_type": "code",
   "execution_count": null,
   "id": "5d7ef388",
   "metadata": {},
   "outputs": [],
   "source": []
  }
 ],
 "metadata": {
  "kernelspec": {
   "display_name": "Python 3 (ipykernel)",
   "language": "python",
   "name": "python3"
  },
  "language_info": {
   "codemirror_mode": {
    "name": "ipython",
    "version": 3
   },
   "file_extension": ".py",
   "mimetype": "text/x-python",
   "name": "python",
   "nbconvert_exporter": "python",
   "pygments_lexer": "ipython3",
   "version": "3.11.4"
  }
 },
 "nbformat": 4,
 "nbformat_minor": 5
}
