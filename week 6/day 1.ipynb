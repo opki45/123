{
 "cells": [
  {
   "cell_type": "code",
   "execution_count": 4,
   "id": "250bd71e",
   "metadata": {},
   "outputs": [
    {
     "ename": "AttributeError",
     "evalue": "'tuple' object has no attribute 'getInfo'",
     "output_type": "error",
     "traceback": [
      "\u001b[1;31m---------------------------------------------------------------------------\u001b[0m",
      "\u001b[1;31mAttributeError\u001b[0m                            Traceback (most recent call last)",
      "Cell \u001b[1;32mIn[4], line 25\u001b[0m\n\u001b[0;32m     23\u001b[0m         \u001b[38;5;28;01mreturn\u001b[39;00m\n\u001b[0;32m     24\u001b[0m car1 \u001b[38;5;241m=\u001b[39m (\u001b[38;5;124m\"\u001b[39m\u001b[38;5;124mHonda\u001b[39m\u001b[38;5;124m\"\u001b[39m,\u001b[38;5;124m\"\u001b[39m\u001b[38;5;124mRed\u001b[39m\u001b[38;5;124m\"\u001b[39m,\u001b[38;5;124m\"\u001b[39m\u001b[38;5;124mCivic\u001b[39m\u001b[38;5;124m\"\u001b[39m,\u001b[38;5;241m2008\u001b[39m)\n\u001b[1;32m---> 25\u001b[0m car1\u001b[38;5;241m.\u001b[39mgetInfo()\n\u001b[0;32m     26\u001b[0m car1\u001b[38;5;241m.\u001b[39mchangeInfo(\u001b[38;5;124m\"\u001b[39m\u001b[38;5;124mFord\u001b[39m\u001b[38;5;124m\"\u001b[39m,\u001b[38;5;124m\"\u001b[39m\u001b[38;5;124mprowler\u001b[39m\u001b[38;5;124m\"\u001b[39m,\u001b[38;5;124m\"\u001b[39m\u001b[38;5;124mBlue\u001b[39m\u001b[38;5;124m\"\u001b[39m,\u001b[38;5;241m2019\u001b[39m)\n",
      "\u001b[1;31mAttributeError\u001b[0m: 'tuple' object has no attribute 'getInfo'"
     ]
    }
   ],
   "source": [
    "class Car(object):\n",
    "    has_engine = True\n",
    "    steering_shape = \"circle\"\n",
    "    def __init__(self,color,make, model, year):\n",
    "        self.color = color\n",
    "        self.make = make\n",
    "        self.year = year\n",
    "        self.model = model \n",
    "        print(\"Executed the__init__method\")\n",
    "        return\n",
    "    def getInfo(self):\n",
    "        print(\"car color:\", self.color)\n",
    "        print(\"car make:\",self.make)\n",
    "        print(\"car model:\", self.model)\n",
    "        print(\"year manufactured:\", self.year)\n",
    "        return\n",
    "    def changeInfo(self,color,make,model,year):\n",
    "        self.color = color\n",
    "        self.make = make\n",
    "        self.year = year\n",
    "        self.model = model \n",
    "        print(\"Executed the setInfo method\")\n",
    "        return\n",
    "car1 = (\"Honda\",\"Red\",\"Civic\",2008)\n",
    "car1.getInfo()\n",
    "car1.changeInfo(\"Ford\",\"prowler\",\"Blue\",2019)\n",
    "        \n",
    "    "
   ]
  },
  {
   "cell_type": "code",
   "execution_count": 13,
   "id": "42c384dd",
   "metadata": {},
   "outputs": [
    {
     "name": "stdout",
     "output_type": "stream",
     "text": [
      "shout\n",
      "None\n"
     ]
    }
   ],
   "source": [
    "class Person:\n",
    "    def talk(self):\n",
    "        print(\"talk\")\n",
    "        return\n",
    "    def jump(self):\n",
    "        print(\"Jump\")\n",
    "        return\n",
    "    def shout(self):\n",
    "        print(\"shout\")\n",
    "        return\n",
    "        \n",
    "john = Person\n",
    "print(john.shout(Person))"
   ]
  },
  {
   "cell_type": "code",
   "execution_count": 16,
   "id": "6b563ca5",
   "metadata": {},
   "outputs": [
    {
     "name": "stdout",
     "output_type": "stream",
     "text": [
      "20000\n",
      "Withdrawal Successful\n",
      "20000\n"
     ]
    }
   ],
   "source": [
    "class BankCustomer:\n",
    "    def __init__(self,name,balance):\n",
    "        self.nm = name\n",
    "        self.bal= balance\n",
    "        return\n",
    "    def deposit(self,amount):\n",
    "        self.bal+=amount\n",
    "        return\n",
    "    def withdraw(self,amount):\n",
    "        if amount > self.bal:\n",
    "            return \"Insufficient Funds\"\n",
    "        else:\n",
    "            return \"Withdrawal Successful\"\n",
    "    def checkBalance(self):\n",
    "        return self.bal\n",
    "    \n",
    "cust1 = BankCustomer(\"Sam\", 20000)\n",
    "bal = cust1.checkBalance()\n",
    "print(bal)\n",
    "withdrawal_response = cust1.withdraw(12000)\n",
    "print(withdrawal_response)\n",
    "\n"
   ]
  },
  {
   "cell_type": "code",
   "execution_count": null,
   "id": "b1b6b522",
   "metadata": {},
   "outputs": [],
   "source": []
  }
 ],
 "metadata": {
  "kernelspec": {
   "display_name": "Python 3 (ipykernel)",
   "language": "python",
   "name": "python3"
  },
  "language_info": {
   "codemirror_mode": {
    "name": "ipython",
    "version": 3
   },
   "file_extension": ".py",
   "mimetype": "text/x-python",
   "name": "python",
   "nbconvert_exporter": "python",
   "pygments_lexer": "ipython3",
   "version": "3.11.4"
  }
 },
 "nbformat": 4,
 "nbformat_minor": 5
}
