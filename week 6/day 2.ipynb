{
 "cells": [
  {
   "cell_type": "code",
   "execution_count": 3,
   "id": "11499028",
   "metadata": {},
   "outputs": [
    {
     "name": "stdout",
     "output_type": "stream",
     "text": [
      "I changed my gears 5 times\n",
      "I am a car, I change my gear 5 times\n",
      "The car is ready to move\n"
     ]
    }
   ],
   "source": [
    "class Vehicle:\n",
    "    steering_shape = \"Circle\"\n",
    "    def __init__(self, no_of_wheels,color):\n",
    "        self.no_of_wheels = no_of_wheels\n",
    "        self.color = color\n",
    "        return\n",
    "    def startEngine(self):\n",
    "        print(\"The car is ready to move\")\n",
    "        return\n",
    "    def accelerate(self,no_of_gears):\n",
    "        print(\"I changed my gears\", no_of_gears,\"times\")\n",
    "        return\n",
    "    \n",
    "class Car(Vehicle):\n",
    "    def __init__(self,no_of_wheels,color,make,model,year):\n",
    "        super().__init__(no_of_wheels,color)\n",
    "        self.make = make\n",
    "        self.model = model\n",
    "        self.year = year\n",
    "        return\n",
    "    def getInfo(self):\n",
    "        print(\"Car color:\",self.color)\n",
    "        print(\"Car model:\",self.model)\n",
    "        return\n",
    "    def accelerate(self,no_of_gears):\n",
    "        super().accelerate(no_of_gears)\n",
    "        print(\"I am a car, I change my gear\", no_of_gears,\"times\")\n",
    "        return\n",
    "car1 = Car(4,\"Black\",\"Honda\",\"CRV\",2010)\n",
    "car1.accelerate(5)\n",
    "car1.startEngine()"
   ]
  },
  {
   "cell_type": "code",
   "execution_count": 4,
   "id": "ce84a84c",
   "metadata": {},
   "outputs": [
    {
     "ename": "TypeError",
     "evalue": "'str' object is not callable",
     "output_type": "error",
     "traceback": [
      "\u001b[1;31m---------------------------------------------------------------------------\u001b[0m",
      "\u001b[1;31mTypeError\u001b[0m                                 Traceback (most recent call last)",
      "Cell \u001b[1;32mIn[4], line 28\u001b[0m\n\u001b[0;32m     25\u001b[0m         \u001b[38;5;28;01mreturn\u001b[39;00m\n\u001b[0;32m     27\u001b[0m dog1 \u001b[38;5;241m=\u001b[39m Dog(\u001b[38;5;124m\"\u001b[39m\u001b[38;5;124mwalk\u001b[39m\u001b[38;5;124m\"\u001b[39m,\u001b[38;5;124m\"\u001b[39m\u001b[38;5;124mtalk\u001b[39m\u001b[38;5;124m\"\u001b[39m)\n\u001b[1;32m---> 28\u001b[0m dog1\u001b[38;5;241m.\u001b[39mwalk()\n",
      "\u001b[1;31mTypeError\u001b[0m: 'str' object is not callable"
     ]
    }
   ],
   "source": [
    "\n",
    "class Animal:\n",
    "    def __init__(self, walk, talk):\n",
    "        self.walk = walk\n",
    "        self.talk = talk\n",
    "        return\n",
    "\n",
    "    def walk(self):\n",
    "        print(\"I can walk\")\n",
    "        return\n",
    "\n",
    "    def talk(self):\n",
    "        print(\"I can talk\")\n",
    "        return\n",
    "\n",
    "\n",
    "class Dog(Animal):\n",
    "    def __init__(self, walk, talk):\n",
    "        super().__init__(walk,talk)\n",
    "        return\n",
    "\n",
    "\n",
    "    def talk(self):\n",
    "        print(\"i am a dog and can talk\")\n",
    "        return\n",
    "\n",
    "dog1 = Dog(\"walk\",\"talk\")\n",
    "dog1.walk()"
   ]
  },
  {
   "cell_type": "code",
   "execution_count": null,
   "id": "34ccfc0c",
   "metadata": {},
   "outputs": [],
   "source": [
    "class Animal:\n",
    "    def talk(self):\n",
    "        print(\"I can talk\")\n",
    "    def move(self):\n",
    "        print(\"I can move\")\n",
    "        \n",
    "class Bird(Animal):\n",
    "    def talk(self):\n",
    "        print(\"I can chirp\")\n",
    "    def move(self):\n",
    "        print(\"I can walk and fly\")\n",
    "    def fly(self):\n",
    "        print(\"I have wings to fly\")"
   ]
  },
  {
   "cell_type": "code",
   "execution_count": 9,
   "id": "3b22943a",
   "metadata": {},
   "outputs": [
    {
     "data": {
      "text/plain": [
       "<bound method Person.getInfo of <__main__.Person object at 0x000001D2DAEB3A50>>"
      ]
     },
     "execution_count": 9,
     "metadata": {},
     "output_type": "execute_result"
    }
   ],
   "source": [
    "\n",
    "from multipledispatch import dispatch\n",
    "\n",
    "class Person:\n",
    "    sex = \"male\"\n",
    "    age = 10\n",
    "    def __init__(self,name):\n",
    "        self.name = name\n",
    "        return\n",
    "    def getInfo(self):\n",
    "        print(\"Name:\",self.name)\n",
    "        print(\"Age:\",self.age)\n",
    "        print(\"Sex:\",self.sex)\n",
    "        return self\n",
    "    @dispatch(str,int)\n",
    "    def setInfo(self,sex,age):\n",
    "        self.sex = sex\n",
    "        self.age = age\n",
    "        return\n",
    "    @dispatch(str)\n",
    "    def setInfo(self,sex):\n",
    "        self.sex = sex\n",
    "        return\n",
    "person1 = Person(\"Jane\")\n",
    "person1.setInfo(\"Female\",30)\n",
    "person1.getInfo\n"
   ]
  },
  {
   "cell_type": "code",
   "execution_count": null,
   "id": "e0681a32",
   "metadata": {},
   "outputs": [],
   "source": []
  },
  {
   "cell_type": "code",
   "execution_count": null,
   "id": "e379ca77",
   "metadata": {},
   "outputs": [],
   "source": []
  }
 ],
 "metadata": {
  "kernelspec": {
   "display_name": "Python 3 (ipykernel)",
   "language": "python",
   "name": "python3"
  },
  "language_info": {
   "codemirror_mode": {
    "name": "ipython",
    "version": 3
   },
   "file_extension": ".py",
   "mimetype": "text/x-python",
   "name": "python",
   "nbconvert_exporter": "python",
   "pygments_lexer": "ipython3",
   "version": "3.11.4"
  }
 },
 "nbformat": 4,
 "nbformat_minor": 5
}
