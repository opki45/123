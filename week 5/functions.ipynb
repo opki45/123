{
 "cells": [
  {
   "cell_type": "code",
   "execution_count": 1,
   "id": "8d6d998a",
   "metadata": {},
   "outputs": [
    {
     "name": "stdout",
     "output_type": "stream",
     "text": [
      "Help on function addnumbers in module __main__:\n",
      "\n",
      "addnumbers(num1, num2)\n",
      "    This function returns the sum of 2 numbers\n",
      "\n"
     ]
    }
   ],
   "source": [
    "def addnumbers(num1,num2):\n",
    "    \"\"\"This function returns the sum of 2 numbers\"\"\"\n",
    "    summed= num1+num2\n",
    "    return summed \n",
    "help(addnumbers)\n",
    "\n"
   ]
  },
  {
   "cell_type": "code",
   "execution_count": 9,
   "id": "6eff7afe",
   "metadata": {},
   "outputs": [
    {
     "name": "stdout",
     "output_type": "stream",
     "text": [
      "720\n"
     ]
    }
   ],
   "source": [
    "#function to find factorial of a number\n",
    "def factorial(n):\n",
    "    num = 1\n",
    "    while n>=1:\n",
    "        num= num*n\n",
    "        n =n-1\n",
    "    return num\n",
    "print(factorial(6))"
   ]
  },
  {
   "cell_type": "code",
   "execution_count": 13,
   "id": "283ee185",
   "metadata": {},
   "outputs": [
    {
     "name": "stdout",
     "output_type": "stream",
     "text": [
      "[6, 9, 11, 14]\n"
     ]
    }
   ],
   "source": [
    "list1=[2,3,4,5]\n",
    "list2=[4,6,7,9]\n",
    "result=[6,9,11,14]\n",
    "\n",
    "def addlist(list_a,list_b):\n",
    "    lenght= len(list_a)\n",
    "    result_list=[]\n",
    "    for i in range(lenght):\n",
    "        item=list_a[i] + list_b[i]\n",
    "        result_list.append(item)\n",
    "    return result_list\n",
    "print(addlist(list1,list2))"
   ]
  },
  {
   "cell_type": "code",
   "execution_count": 21,
   "id": "af124243",
   "metadata": {},
   "outputs": [
    {
     "name": "stdout",
     "output_type": "stream",
     "text": [
      "54\n"
     ]
    }
   ],
   "source": [
    "list1=[2,3,4,5]\n",
    "def sample_list(list):\n",
    "    sum_of_squares = 0\n",
    "    for item in list1:\n",
    "        sum_of_squares += item*item\n",
    "    return sum_of_squares\n",
    "print(sample_list(list1))\n"
   ]
  },
  {
   "cell_type": "code",
   "execution_count": 22,
   "id": "51c11fe9",
   "metadata": {},
   "outputs": [
    {
     "name": "stdout",
     "output_type": "stream",
     "text": [
      "Name:  samuel\n",
      "Age:  24\n"
     ]
    }
   ],
   "source": [
    "#function with default value\n",
    "def printinfo(name,age=24):\n",
    "    \"This function prints info passed into the function\"\n",
    "    print(\"Name: \", name)\n",
    "    print(\"Age: \",age)\n",
    "    return\n",
    "printinfo(\"samuel\")"
   ]
  },
  {
   "cell_type": "code",
   "execution_count": 25,
   "id": "9a5d8e00",
   "metadata": {},
   "outputs": [
    {
     "name": "stdout",
     "output_type": "stream",
     "text": [
      "(90, 98, 94, 89, 91, 96, 92, 93)\n",
      "Name:  Dayo\n",
      "Total Score:  743\n"
     ]
    }
   ],
   "source": [
    "#function with variable length argument\n",
    "def scoreTotal(name,*scores):\n",
    "    print(scores)\n",
    "    print(\"Name: \",name)\n",
    "    total=0\n",
    "    for score in scores:\n",
    "        total+=score\n",
    "    print(\"Total Score: \", total)\n",
    "        \n",
    "    return\n",
    "scoreTotal(\"Dayo\", 90,98,94,89,91,96,92,93)"
   ]
  },
  {
   "cell_type": "code",
   "execution_count": null,
   "id": "c879ca4a",
   "metadata": {},
   "outputs": [],
   "source": [
    "#function with keyword argument\n",
    "def kw_function(**subjects):\n",
    "    for subject, score in subjects.items():\n",
    "        print(subject,score)\n",
    "    return\n",
    "kw_function(Math=89,English=78,Agric=93)\n",
    "    "
   ]
  }
 ],
 "metadata": {
  "kernelspec": {
   "display_name": "Python 3 (ipykernel)",
   "language": "python",
   "name": "python3"
  },
  "language_info": {
   "codemirror_mode": {
    "name": "ipython",
    "version": 3
   },
   "file_extension": ".py",
   "mimetype": "text/x-python",
   "name": "python",
   "nbconvert_exporter": "python",
   "pygments_lexer": "ipython3",
   "version": "3.11.4"
  }
 },
 "nbformat": 4,
 "nbformat_minor": 5
}
