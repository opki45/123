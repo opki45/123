{
 "cells": [
  {
   "cell_type": "code",
   "execution_count": 4,
   "id": "e37fc29c",
   "metadata": {},
   "outputs": [
    {
     "name": "stdout",
     "output_type": "stream",
     "text": [
      "Total outside the function:  0\n",
      "Total before decleration:  0\n",
      "Total within the function:  20\n"
     ]
    }
   ],
   "source": [
    "#global and local variables\n",
    "\n",
    "total=0 #this is a global variable as it is not in a function\n",
    "\n",
    "def sumnumbers(num1,num2):\n",
    "    global total\n",
    "    print(\"Total before decleration: \", total)\n",
    "    total= num1 + num2 #this is a local variable\n",
    "    print(\"Total within the function: \" ,total)\n",
    "    return\n",
    "print(\"Total outside the function: \",total)\n",
    "\n",
    "sumnumbers(9,11)"
   ]
  },
  {
   "cell_type": "code",
   "execution_count": 16,
   "id": "89ae309d",
   "metadata": {},
   "outputs": [
    {
     "name": "stdout",
     "output_type": "stream",
     "text": [
      "39916800\n"
     ]
    }
   ],
   "source": [
    "#iterative version of finding factorial of a number\n",
    "def factorial(n):\n",
    "    if n<=1:\n",
    "        return 1\n",
    "    total=1\n",
    "    while n>1:\n",
    "        total=total*n\n",
    "        n=n-1\n",
    "    return total\n",
    "print(factorial(11))\n",
    "\n",
    "        "
   ]
  },
  {
   "cell_type": "code",
   "execution_count": 12,
   "id": "2312fbee",
   "metadata": {},
   "outputs": [
    {
     "name": "stdout",
     "output_type": "stream",
     "text": [
      "39916800\n"
     ]
    }
   ],
   "source": [
    "#recursive method of doing factorial\n",
    "def factorial(n):\n",
    "    if n < 1:\n",
    "        return 1\n",
    "    total = n * factorial(n-1)\n",
    "    return total\n",
    "print(factorial(11))"
   ]
  },
  {
   "cell_type": "code",
   "execution_count": 32,
   "id": "18682e15",
   "metadata": {},
   "outputs": [
    {
     "name": "stdout",
     "output_type": "stream",
     "text": [
      "1\n",
      "3\n",
      "5\n",
      "4\n",
      "5\n",
      "7\n",
      "4\n",
      "2\n",
      "6\n",
      "4\n",
      "8\n",
      "9\n",
      "5\n",
      "8\n",
      "8\n",
      "5\n"
     ]
    },
    {
     "ename": "RecursionError",
     "evalue": "maximum recursion depth exceeded in comparison",
     "output_type": "error",
     "traceback": [
      "\u001b[1;31m---------------------------------------------------------------------------\u001b[0m",
      "\u001b[1;31mRecursionError\u001b[0m                            Traceback (most recent call last)",
      "Cell \u001b[1;32mIn[32], line 10\u001b[0m\n\u001b[0;32m      8\u001b[0m             \u001b[38;5;28mprint\u001b[39m(item)\n\u001b[0;32m      9\u001b[0m     \u001b[38;5;28;01mreturn\u001b[39;00m\n\u001b[1;32m---> 10\u001b[0m \u001b[38;5;28mprint\u001b[39m(extract(list1))\n",
      "Cell \u001b[1;32mIn[32], line 6\u001b[0m, in \u001b[0;36mextract\u001b[1;34m(list_item)\u001b[0m\n\u001b[0;32m      4\u001b[0m \u001b[38;5;28;01mfor\u001b[39;00m item \u001b[38;5;129;01min\u001b[39;00m list_item:\n\u001b[0;32m      5\u001b[0m     \u001b[38;5;28;01mif\u001b[39;00m \u001b[38;5;28mtype\u001b[39m(item) \u001b[38;5;129;01min\u001b[39;00m [\u001b[38;5;28mlist\u001b[39m,\u001b[38;5;28mtuple\u001b[39m,\u001b[38;5;28mdict\u001b[39m,\u001b[38;5;28mstr\u001b[39m]:\n\u001b[1;32m----> 6\u001b[0m         extract(item)\n\u001b[0;32m      7\u001b[0m     \u001b[38;5;28;01melse\u001b[39;00m:\n\u001b[0;32m      8\u001b[0m         \u001b[38;5;28mprint\u001b[39m(item)\n",
      "Cell \u001b[1;32mIn[32], line 6\u001b[0m, in \u001b[0;36mextract\u001b[1;34m(list_item)\u001b[0m\n\u001b[0;32m      4\u001b[0m \u001b[38;5;28;01mfor\u001b[39;00m item \u001b[38;5;129;01min\u001b[39;00m list_item:\n\u001b[0;32m      5\u001b[0m     \u001b[38;5;28;01mif\u001b[39;00m \u001b[38;5;28mtype\u001b[39m(item) \u001b[38;5;129;01min\u001b[39;00m [\u001b[38;5;28mlist\u001b[39m,\u001b[38;5;28mtuple\u001b[39m,\u001b[38;5;28mdict\u001b[39m,\u001b[38;5;28mstr\u001b[39m]:\n\u001b[1;32m----> 6\u001b[0m         extract(item)\n\u001b[0;32m      7\u001b[0m     \u001b[38;5;28;01melse\u001b[39;00m:\n\u001b[0;32m      8\u001b[0m         \u001b[38;5;28mprint\u001b[39m(item)\n",
      "    \u001b[1;31m[... skipping similar frames: extract at line 6 (2970 times)]\u001b[0m\n",
      "Cell \u001b[1;32mIn[32], line 6\u001b[0m, in \u001b[0;36mextract\u001b[1;34m(list_item)\u001b[0m\n\u001b[0;32m      4\u001b[0m \u001b[38;5;28;01mfor\u001b[39;00m item \u001b[38;5;129;01min\u001b[39;00m list_item:\n\u001b[0;32m      5\u001b[0m     \u001b[38;5;28;01mif\u001b[39;00m \u001b[38;5;28mtype\u001b[39m(item) \u001b[38;5;129;01min\u001b[39;00m [\u001b[38;5;28mlist\u001b[39m,\u001b[38;5;28mtuple\u001b[39m,\u001b[38;5;28mdict\u001b[39m,\u001b[38;5;28mstr\u001b[39m]:\n\u001b[1;32m----> 6\u001b[0m         extract(item)\n\u001b[0;32m      7\u001b[0m     \u001b[38;5;28;01melse\u001b[39;00m:\n\u001b[0;32m      8\u001b[0m         \u001b[38;5;28mprint\u001b[39m(item)\n",
      "Cell \u001b[1;32mIn[32], line 5\u001b[0m, in \u001b[0;36mextract\u001b[1;34m(list_item)\u001b[0m\n\u001b[0;32m      3\u001b[0m \u001b[38;5;28;01mdef\u001b[39;00m \u001b[38;5;21mextract\u001b[39m(list_item):\n\u001b[0;32m      4\u001b[0m     \u001b[38;5;28;01mfor\u001b[39;00m item \u001b[38;5;129;01min\u001b[39;00m list_item:\n\u001b[1;32m----> 5\u001b[0m         \u001b[38;5;28;01mif\u001b[39;00m \u001b[38;5;28mtype\u001b[39m(item) \u001b[38;5;129;01min\u001b[39;00m [\u001b[38;5;28mlist\u001b[39m,\u001b[38;5;28mtuple\u001b[39m,\u001b[38;5;28mdict\u001b[39m,\u001b[38;5;28mstr\u001b[39m]:\n\u001b[0;32m      6\u001b[0m             extract(item)\n\u001b[0;32m      7\u001b[0m         \u001b[38;5;28;01melse\u001b[39;00m:\n",
      "\u001b[1;31mRecursionError\u001b[0m: maximum recursion depth exceeded in comparison"
     ]
    }
   ],
   "source": [
    "list1= [1,3,5,[4,5,7,[4,2,6,[4,8,9]]],5,8,(8,5),{\"First\":50},\"Sam\"]\n",
    "\n",
    "def extract(list_item):\n",
    "    for item in list_item:\n",
    "        if type(item) in [list,tuple,dict,str]:\n",
    "            extract(item)\n",
    "        else:\n",
    "            print(item)\n",
    "    return\n",
    "print(extract(list1))\n"
   ]
  },
  {
   "cell_type": "code",
   "execution_count": 33,
   "id": "31959997",
   "metadata": {},
   "outputs": [
    {
     "name": "stdout",
     "output_type": "stream",
     "text": [
      "[25, 16, 36]\n"
     ]
    }
   ],
   "source": [
    "#map function\n",
    "def square(number):\n",
    "    return number**2\n",
    "list_a =[5,4,6]\n",
    "mapped_list= map(square, list_a)\n",
    "print(list(mapped_list))"
   ]
  },
  {
   "cell_type": "code",
   "execution_count": 34,
   "id": "336bfc9c",
   "metadata": {},
   "outputs": [
    {
     "name": "stdout",
     "output_type": "stream",
     "text": [
      "[5, 4, 3]\n"
     ]
    }
   ],
   "source": [
    "def str_to_int(str):\n",
    "    return int(str)\n",
    "list_b= [\"5\", \"4\", \"3\"]\n",
    "mapped= map(str_to_int, list_b)\n",
    "print(list(mapped))"
   ]
  },
  {
   "cell_type": "code",
   "execution_count": 35,
   "id": "3b8374cd",
   "metadata": {},
   "outputs": [
    {
     "name": "stdout",
     "output_type": "stream",
     "text": [
      "Enter scores seperated by comma e.g 6,7,8: 9,8,7,6,5,4,3,3,2,1\n",
      "[9, 8, 7, 6, 5, 4, 3, 3, 2, 1]\n"
     ]
    }
   ],
   "source": [
    "values = input(\"Enter scores seperated by comma e.g 6,7,8: \")\n",
    "split= values.split(\",\")\n",
    "new_list = map(str_to_int, split)\n",
    "print(list(new_list))"
   ]
  },
  {
   "cell_type": "code",
   "execution_count": 44,
   "id": "e7dc5b5a",
   "metadata": {},
   "outputs": [
    {
     "name": "stdout",
     "output_type": "stream",
     "text": [
      "Please enter numbers seperated by semicolon: 6;7;8;9\n",
      "the sum is  30\n",
      "The average is  7.5\n"
     ]
    }
   ],
   "source": [
    "values = input(\"Please enter numbers seperated by semicolon: \")\n",
    "split= values.split(\";\")\n",
    "new_list = map(str_to_int, split)\n",
    "new_list1=list(new_list)\n",
    "add= sum(new_list1)\n",
    "print(\"the sum is \", add)\n",
    "length= len(new_list1)\n",
    "average= add/length\n",
    "print(\"The average is \", average)\n",
    "\n",
    "\n"
   ]
  },
  {
   "cell_type": "code",
   "execution_count": 45,
   "id": "460c192a",
   "metadata": {},
   "outputs": [
    {
     "name": "stdout",
     "output_type": "stream",
     "text": [
      "[8, 10, 16, 20]\n"
     ]
    }
   ],
   "source": [
    "#working with filter built in function\n",
    "def even(num):\n",
    "    if num % 2==0:\n",
    "        return True\n",
    "    else:\n",
    "        return False\n",
    "list_c = [5,7,8,10,11,13,15,16,17,19,20]\n",
    "filtered = filter(even,list_c)\n",
    "print(list(filtered))"
   ]
  },
  {
   "cell_type": "code",
   "execution_count": 46,
   "id": "3e17af4b",
   "metadata": {},
   "outputs": [
    {
     "name": "stdout",
     "output_type": "stream",
     "text": [
      "[9, 25, 49, 64]\n"
     ]
    }
   ],
   "source": [
    "#working with lambda function\n",
    "#squaring each item into a list using lambda\n",
    "\n",
    "list1 = [3,5,7,8]\n",
    "list_map = map(lambda i:i**2, list1)\n",
    "print(list(list_map))"
   ]
  },
  {
   "cell_type": "code",
   "execution_count": 47,
   "id": "620fb483",
   "metadata": {},
   "outputs": [
    {
     "name": "stdout",
     "output_type": "stream",
     "text": [
      "[12, 25, 36, 28]\n"
     ]
    }
   ],
   "source": [
    "list1 = [4,5,6,7]\n",
    "list2 = [3,5,6,4]\n",
    "multiplied= map(lambda a,b: a*b, list1,list2)\n",
    "print(list(multiplied))"
   ]
  },
  {
   "cell_type": "code",
   "execution_count": null,
   "id": "14c72c2a",
   "metadata": {},
   "outputs": [],
   "source": []
  }
 ],
 "metadata": {
  "kernelspec": {
   "display_name": "Python 3 (ipykernel)",
   "language": "python",
   "name": "python3"
  },
  "language_info": {
   "codemirror_mode": {
    "name": "ipython",
    "version": 3
   },
   "file_extension": ".py",
   "mimetype": "text/x-python",
   "name": "python",
   "nbconvert_exporter": "python",
   "pygments_lexer": "ipython3",
   "version": "3.11.4"
  }
 },
 "nbformat": 4,
 "nbformat_minor": 5
}
