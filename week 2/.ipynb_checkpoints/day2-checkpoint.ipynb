{
 "cells": [
  {
   "cell_type": "code",
   "execution_count": 1,
   "id": "9a1b1fb6",
   "metadata": {},
   "outputs": [
    {
     "name": "stdout",
     "output_type": "stream",
     "text": [
      "18.2\n",
      "0.5\n",
      "12\n"
     ]
    }
   ],
   "source": [
    "#using built in functions(absolute)\n",
    "a = -18.2\n",
    "b = abs(a)\n",
    "print(b)\n",
    "print(abs(-0.5))\n",
    "print(abs(12))"
   ]
  },
  {
   "cell_type": "code",
   "execution_count": 4,
   "id": "6a05f366",
   "metadata": {},
   "outputs": [
    {
     "name": "stdout",
     "output_type": "stream",
     "text": [
      "min score =  11\n",
      "max score =  348\n"
     ]
    }
   ],
   "source": [
    "#using built in functions (min and max)\n",
    "scores = [20,11,19,112,32,27,348,87,76]\n",
    "min_score = min(scores)\n",
    "max_score = max(scores)\n",
    "print(\"min score = \", min_score)\n",
    "print(\"max score = \",  max_score)"
   ]
  },
  {
   "cell_type": "code",
   "execution_count": 10,
   "id": "e871b8eb",
   "metadata": {},
   "outputs": [
    {
     "name": "stdout",
     "output_type": "stream",
     "text": [
      "12\n",
      "11\n",
      "2\n",
      "{67, 40, 11, 12, 15, 82, 19, 20, 21, 87, 90, 30}\n",
      "41.166666666666664\n"
     ]
    }
   ],
   "source": [
    "#using the len function\n",
    "scores = {40,20,21,12,30,11,19,15,67,82,87,90,40}\n",
    "string = \"hello world\"\n",
    "str_list = [\"samuel is a boy\", \"oge is a girl\"]\n",
    "print(len(scores))\n",
    "print(len(string))\n",
    "print(len(str_list))\n",
    "print(scores)\n",
    "total = sum(scores)\n",
    "mean = total/len(scores)\n",
    "print(mean)"
   ]
  },
  {
   "cell_type": "code",
   "execution_count": null,
   "id": "5d22e809",
   "metadata": {},
   "outputs": [],
   "source": [
    "#using type,str,intand float functions\n",
    "a = 30\n",
    "b = \"my score is =\"\n",
    "c = b + str(a)\n",
    "print(c)\n"
   ]
  },
  {
   "cell_type": "code",
   "execution_count": 12,
   "id": "7ca2b675",
   "metadata": {},
   "outputs": [
    {
     "name": "stdout",
     "output_type": "stream",
     "text": [
      "[0, 1, 2, 3, 4, 5, 6, 7, 8, 9]\n",
      "[1, 2, 3, 4, 5, 6, 7, 8, 9]\n",
      "[1, 3, 5, 7, 9]\n"
     ]
    }
   ],
   "source": [
    "#range function\n",
    "n = 10\n",
    "start_point = 1\n",
    "step = 2\n",
    "num_range = range(n)\n",
    "num_range1 = range(start_point,n)\n",
    "num_range2 = range(start_point,n,step)\n",
    "print(list(num_range))\n",
    "print(list(num_range1))\n",
    "print(list(num_range2))\n"
   ]
  },
  {
   "cell_type": "code",
   "execution_count": 14,
   "id": "6c595bec",
   "metadata": {},
   "outputs": [
    {
     "name": "stdout",
     "output_type": "stream",
     "text": [
      "DAYOOR\n",
      "dayoor\n",
      "Dayoor\n",
      "Python For Data Science \n"
     ]
    }
   ],
   "source": [
    "#lower,upper,capitalize functions\n",
    "name = \"dayoor\"\n",
    "name_uppercase = name.upper()\n",
    "name_lowercase = name_uppercase.lower()\n",
    "print(name_uppercase)\n",
    "print(name_lowercase)\n",
    "\n",
    "print(name.capitalize())\n",
    "\n",
    "heading = \"python for data science \"\n",
    "print(heading.title())\n"
   ]
  },
  {
   "cell_type": "code",
   "execution_count": 16,
   "id": "ee34d0fb",
   "metadata": {},
   "outputs": [
    {
     "name": "stdout",
     "output_type": "stream",
     "text": [
      "['Amos', 'Dayo', 'Stephanie', 'Emmanuel', 'Nse', 'Aisha']\n",
      "Amos Dayo Stephanie Emmanuel Nse Aisha\n"
     ]
    }
   ],
   "source": [
    "#split function\n",
    "string = \"Amos Dayo Stephanie Emmanuel Nse Aisha\"\n",
    "transformed = string.split(\" \")\n",
    "print(transformed)\n",
    "#using join function to convert a list to a string\n",
    "joined_str = \" \".join(transformed)\n",
    "print(joined_str)"
   ]
  },
  {
   "cell_type": "code",
   "execution_count": null,
   "id": "59663f21",
   "metadata": {},
   "outputs": [],
   "source": []
  }
 ],
 "metadata": {
  "kernelspec": {
   "display_name": "Python 3 (ipykernel)",
   "language": "python",
   "name": "python3"
  },
  "language_info": {
   "codemirror_mode": {
    "name": "ipython",
    "version": 3
   },
   "file_extension": ".py",
   "mimetype": "text/x-python",
   "name": "python",
   "nbconvert_exporter": "python",
   "pygments_lexer": "ipython3",
   "version": "3.11.3"
  }
 },
 "nbformat": 4,
 "nbformat_minor": 5
}
