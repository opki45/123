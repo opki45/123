{
 "cells": [
  {
   "cell_type": "code",
   "execution_count": 2,
   "id": "aa9f8b46",
   "metadata": {},
   "outputs": [
    {
     "ename": "SyntaxError",
     "evalue": "invalid non-printable character U+00A0 (782715883.py, line 19)",
     "output_type": "error",
     "traceback": [
      "\u001b[1;36m  Cell \u001b[1;32mIn[2], line 19\u001b[1;36m\u001b[0m\n\u001b[1;33m    item = []\u001b[0m\n\u001b[1;37m    ^\u001b[0m\n\u001b[1;31mSyntaxError\u001b[0m\u001b[1;31m:\u001b[0m invalid non-printable character U+00A0\n"
     ]
    }
   ],
   "source": [
    "from bs4 import BeautifulSoup as bs\n",
    "import pandas as pd\n",
    "import requests\n",
    "import pymysql\n",
    "pymysql.install_as_MySQLdb()\n",
    "from sqlalchemy import create_engine\n",
    "\n",
    "url = 'https://www.jumia.com.ng/mlp-stay-connected-deals/smartphones/'\n",
    "page = requests.get(url)\n",
    "soup = bs(page.content, 'html5lib')\n",
    "#print(soup.prettify())\n",
    "table = soup.find('div', attrs={'class': '-paxs row _no-g _4cl-3cm-shs'})\n",
    "#print(table.prettify())\n",
    "articles = table.findAll('article', attrs={'class': 'prd _fb col c-prd'})\n",
    "#print(articles[1].prettify())\n",
    "#items = []\n",
    "df = pd.DataFrame(columns=['name', 'discounted_price', 'original_price', 'discount', 'rating'])\n",
    "for phone in articles:\n",
    "    item = {}\n",
    "    item['name'] = phone.find('h3', attrs={'class': \"name\"}).text\n",
    "    discount_price = phone.find('div', attrs={'class': 'prc'})\n",
    "    if discount_price is not None:\n",
    "       item['discounted_price'] = discount_price.text.replace(\"₦ \", \"\")\n",
    "    original_price = phone.find('div', attrs={'class': 'old'})\n",
    "    if original_price is not None:\n",
    "       item['original_price'] = original_price.text.replace(\"₦ \", \"\")\n",
    "    discount = phone.find('div', attrs={'class': 'bdg _dsct _sm'})\n",
    "    if discount is not None:\n",
    "       item['discount'] = discount.text\n",
    "    rating = phone.find('div', class_='stars _s')\n",
    "    if rating is not None:\n",
    "        item['rating'] = rating.contents[0] # or .find_next(text=True)\n",
    "    else:\n",
    "        item['rating'] = \"\"\n",
    "   \n",
    "    df = df.append(item, ignore_index=True)\n",
    "try:\n",
    "    engine = create_engine('mysql://root:@localhost/univelcity')\n",
    "    with engine.begin() as connection:\n",
    "        df.to_sql(name='web_scrapping_information', con=connection, if_exists='append', index=False)\n",
    "except Exception as e:\n",
    "    print(e)\n",
    "print(\"we are done!\")"
   ]
  },
  {
   "cell_type": "code",
   "execution_count": 4,
   "id": "b21a505f",
   "metadata": {},
   "outputs": [
    {
     "name": "stdout",
     "output_type": "stream",
     "text": [
      "Array size: 4\n",
      "Array dtype: int32\n",
      "Array shape: (4,)\n"
     ]
    }
   ],
   "source": [
    "import numpy as np\n",
    "np_array = np.array([1,2,4,6])\n",
    "print(\"Array size:\", np_array.size)\n",
    "print(\"Array dtype:\", np_array.dtype)\n",
    "print(\"Array shape:\", np_array.shape)\n",
    "print(\"Array dimension:\", np_array.shape)\n"
   ]
  },
  {
   "cell_type": "code",
   "execution_count": 6,
   "id": "2c57b77c",
   "metadata": {},
   "outputs": [
    {
     "name": "stdout",
     "output_type": "stream",
     "text": [
      "[ 2  4  6  8 10 12 14 16 18]\n",
      "[[ 2  4  6]\n",
      " [ 8 10 12]\n",
      " [14 16 18]]\n"
     ]
    }
   ],
   "source": [
    "np_arrange_array = np.arange(2,20,2)\n",
    "print(np_arrange_array)\n",
    "\n",
    "np_arrange_array = np_arrange_array.reshape(3,3)\n",
    "print(np_arrange_array)"
   ]
  },
  {
   "cell_type": "code",
   "execution_count": 11,
   "id": "7eceb630",
   "metadata": {},
   "outputs": [
    {
     "name": "stdout",
     "output_type": "stream",
     "text": [
      "[ 2  4  6  8 10 12 14 16 18 20 22 24 26 28 30 32 34 36]\n",
      "(18,)\n",
      "18\n",
      "Array n dimension: 1\n",
      "\n",
      "----After reshape----\n",
      "[[[ 2  4]\n",
      "  [ 6  8]\n",
      "  [10 12]]\n",
      "\n",
      " [[14 16]\n",
      "  [18 20]\n",
      "  [22 24]]\n",
      "\n",
      " [[26 28]\n",
      "  [30 32]\n",
      "  [34 36]]]\n",
      "(3, 3, 2)\n",
      "18\n",
      "Array n dimesion:  3\n"
     ]
    }
   ],
   "source": [
    "array = np.arange(2,37,2)\n",
    "array_reshaped = array.reshape(3,3,2)\n",
    "print(array)\n",
    "print(array.shape)\n",
    "print(array.size)\n",
    "print(\"Array n dimension:\", array.ndim)\n",
    "print(\"\\n----After reshape----\")\n",
    "print(array_reshaped)\n",
    "print(array_reshaped.shape)\n",
    "print(array_reshaped.size)\n",
    "print(\"Array n dimesion: \",array_reshaped.ndim)"
   ]
  },
  {
   "cell_type": "code",
   "execution_count": 12,
   "id": "9a62b641",
   "metadata": {},
   "outputs": [
    {
     "name": "stdout",
     "output_type": "stream",
     "text": [
      "9\n"
     ]
    }
   ],
   "source": [
    "array = np.arange(2,20,2)\n",
    "print(array.size)"
   ]
  },
  {
   "cell_type": "code",
   "execution_count": 24,
   "id": "9b65f487",
   "metadata": {},
   "outputs": [
    {
     "name": "stdout",
     "output_type": "stream",
     "text": [
      "24\n",
      "[[[ 2  4]\n",
      "  [ 6  8]\n",
      "  [10 12]]\n",
      "\n",
      " [[14 16]\n",
      "  [18 20]\n",
      "  [22 24]]\n",
      "\n",
      " [[26 28]\n",
      "  [30 32]\n",
      "  [34 36]]]\n"
     ]
    }
   ],
   "source": [
    "array = np.arange(1,49,2)\n",
    "print(array.size)\n",
    "array_resphaped = array.reshape(2,4,3)\n",
    "print(array_reshaped)print(array.shape)\n",
    "print(array.size)\n",
    "print(\"Array n dimension:\", array.ndim)\n",
    "print(\"\\n----After reshape----\")\n",
    "print(array_reshaped)\n",
    "print(array_reshaped.shape)\n",
    "print(array_reshaped.size)\n",
    "print(\"Array n dimesion: \",array_reshaped.ndim)\n",
    "\n"
   ]
  },
  {
   "cell_type": "code",
   "execution_count": 26,
   "id": "0b3f6208",
   "metadata": {},
   "outputs": [
    {
     "name": "stdout",
     "output_type": "stream",
     "text": [
      "[2.   2.75 3.5  4.25 5.  ]\n"
     ]
    }
   ],
   "source": [
    "#numpy linespace\n",
    "arr = np.linspace(2,5,5)\n",
    "print(arr)"
   ]
  },
  {
   "cell_type": "code",
   "execution_count": 28,
   "id": "4f512dc3",
   "metadata": {},
   "outputs": [
    {
     "name": "stdout",
     "output_type": "stream",
     "text": [
      "[[1. 1. 1.]\n",
      " [1. 1. 1.]]\n",
      "[0. 0. 0. 0. 0. 0. 0. 0. 0. 0.]\n"
     ]
    }
   ],
   "source": [
    "ones_array = np.ones(6)\n",
    "print(ones_array.reshape(2,3))\n",
    "\n",
    "zeros = np.zeros(10)\n",
    "print(zeros)"
   ]
  },
  {
   "cell_type": "code",
   "execution_count": 31,
   "id": "f8dc91f7",
   "metadata": {},
   "outputs": [
    {
     "name": "stdout",
     "output_type": "stream",
     "text": [
      "[ 2  3  4  5  6  7  8  9 10 11 12 13 14 15 16 17 18 19]\n",
      "[ 2  3  4  5  6  7  8  9 10 11 12 13 14 15 16 17 18 19 40]\n",
      "[ 2  3  4  5  6  7  8  9 10 11 12 13 14 15 16 17 18 40]\n"
     ]
    }
   ],
   "source": [
    "array = np.arange(2,20)\n",
    "print(array)\n",
    "\n",
    "array = np.append(array, 40)\n",
    "print(array)\n",
    "\n",
    "array = np.delete(array, 17)\n",
    "print(array)"
   ]
  },
  {
   "cell_type": "code",
   "execution_count": 36,
   "id": "851a9945",
   "metadata": {},
   "outputs": [
    {
     "name": "stdout",
     "output_type": "stream",
     "text": [
      "[0.73729334 0.30569767 0.39801126 0.32662984 0.29185868 0.05472079\n",
      " 0.88263634 0.03321606 0.93542642 0.61480613]\n",
      "[0.03321606 0.05472079 0.29185868 0.30569767 0.32662984 0.39801126\n",
      " 0.61480613 0.73729334 0.88263634 0.93542642]\n",
      "Random number 15.57\n"
     ]
    }
   ],
   "source": [
    "array_random = np.random.rand(10)\n",
    "print(array_random)\n",
    "sorted_array = np.sort(array_random)\n",
    "print(sorted_array)\n",
    "\n",
    "random_item = np.random.random()\n",
    "print(\"Random number\", round(random_item * 100,2))"
   ]
  },
  {
   "cell_type": "code",
   "execution_count": 37,
   "id": "a49d8bfe",
   "metadata": {},
   "outputs": [
    {
     "name": "stdout",
     "output_type": "stream",
     "text": [
      "array a:  [1 2 3 4 5 6 7 8 9]\n",
      "array b:  [11 12 13 14 15 16 17 18 19]\n",
      "array_c: [12 14 16 18 20 22 24 26 28]\n"
     ]
    }
   ],
   "source": [
    "array_a = np.arange(1,10)\n",
    "array_b = np.arange(11,20)\n",
    "print(\"array a: \", array_a)\n",
    "print(\"array b: \", array_b)\n",
    "array_c = array_b + array_a\n",
    "print(\"array_c:\", array_c)\n"
   ]
  },
  {
   "cell_type": "code",
   "execution_count": null,
   "id": "08d59fb9",
   "metadata": {},
   "outputs": [],
   "source": []
  }
 ],
 "metadata": {
  "kernelspec": {
   "display_name": "Python 3 (ipykernel)",
   "language": "python",
   "name": "python3"
  },
  "language_info": {
   "codemirror_mode": {
    "name": "ipython",
    "version": 3
   },
   "file_extension": ".py",
   "mimetype": "text/x-python",
   "name": "python",
   "nbconvert_exporter": "python",
   "pygments_lexer": "ipython3",
   "version": "3.11.4"
  }
 },
 "nbformat": 4,
 "nbformat_minor": 5
}
